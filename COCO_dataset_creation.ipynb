{
 "cells": [
  {
   "cell_type": "code",
   "execution_count": 42,
   "id": "3211ed00",
   "metadata": {},
   "outputs": [],
   "source": [
    "import os\n",
    "from glob import glob\n",
    "from PIL import Image\n",
    "import numpy as np\n",
    "import json\n",
    "import random\n",
    "from copy import deepcopy\n",
    "from tqdm import tqdm"
   ]
  },
  {
   "cell_type": "code",
   "execution_count": 43,
   "id": "e58d8540",
   "metadata": {},
   "outputs": [],
   "source": [
    "coco_json_template={\n",
    "    \"info\": {\n",
    "        \"description\": \"IHC Biomarker Dataset\",\n",
    "        \"url\": \"http://cocodataset.org\",\n",
    "        \"version\": \"1.0\",\n",
    "        \"year\": 2025,\n",
    "        \"contributor\": \"Research Team\",\n",
    "        \"date_created\": \"2025/09/29\"\n",
    "    },\n",
    "    \"licenses\": [\n",
    "        {\n",
    "            \"url\": \"http://creativecommons.org/licenses/by-nc-sa/2.0/\",\n",
    "            \"id\": 1,\n",
    "            \"name\": \"Attribution-NonCommercial-ShareAlike License\"\n",
    "        }\n",
    "    ],\n",
    "    \n",
    "    \"categories\": [\n",
    "        {\n",
    "            \"id\": 1,\n",
    "            \"name\": \"pd-l1 negative tumor cell\",  # T Cell Positive\n",
    "            \"supercategory\": \"biomarker\"\n",
    "        },\n",
    "        {\n",
    "            \"id\": 2,\n",
    "            \"name\": \"pd-l1 positive tumor cell\",  # Programmed Death-Ligand 1\n",
    "            \"supercategory\": \"biomarker\"\n",
    "        },\n",
    "        {\n",
    "            \"id\": 3,\n",
    "            \"name\": \"non-tumor cell\",  # Programmed Death-Ligand 1\n",
    "            \"supercategory\": \"biomarker\"\n",
    "        }\n",
    "    ],\n",
    "    \"images\": [],\n",
    "    \"annotations\": []\n",
    "}\n",
    "def custom_coco_json_creation(json_data,image_id,annotation_id):\n",
    "    image_info = {\n",
    "        \"id\": image_id,\n",
    "        \"width\": json_data['image']['width'],\n",
    "        \"height\": json_data['image']['height'],\n",
    "        \"file_name\": json_data['image']['file_name'],\n",
    "        \"license\": 1,\n",
    "    }\n",
    "    annotaion_info=[]\n",
    "    for j in range(len(json_data['annotations'])):\n",
    "        annotaion_info.append({\n",
    "                \"id\": annotation_id,\n",
    "                \"image_id\": image_id,\n",
    "                \"category_id\": json_data['annotations'][j]['category_id'],\n",
    "                \"bbox\":json_data['annotations'][j]['bbox'],  # [x, y, width, height]\n",
    "                \"iscrowd\": 0\n",
    "            })\n",
    "        annotation_id+=1\n",
    "    \n",
    "    return image_info, annotaion_info"
   ]
  },
  {
   "cell_type": "code",
   "execution_count": 40,
   "id": "05ce6c39",
   "metadata": {},
   "outputs": [
    {
     "name": "stderr",
     "output_type": "stream",
     "text": [
      "100%|██████████| 344/344 [00:03<00:00, 87.09it/s] \n"
     ]
    }
   ],
   "source": [
    "json_list=glob('../../data/IGNITE/annotations/pdl1/individual/*.json')\n",
    "file_path='../../data/IGNITE/images/pdl1/nuclei/'\n",
    "train_image_id=1  \n",
    "val_image_id=1\n",
    "test_image_id=1\n",
    "train_annotation_id=1\n",
    "val_annotation_id=1\n",
    "test_annotation_id=1\n",
    "train_json=deepcopy(coco_json_template)\n",
    "val_json=deepcopy(coco_json_template)\n",
    "test_json=deepcopy(coco_json_template)\n",
    "for i in tqdm(range(len(json_list))):\n",
    "\n",
    "    dataset_classification=random.randint(0,10)\n",
    "    with open(json_list[i],'r') as f:\n",
    "        data=json.load(f)\n",
    "    if dataset_classification<8:\n",
    "        image_info, annotaion_info=custom_coco_json_creation(data,train_image_id,train_annotation_id)\n",
    "        train_json['images'].append(image_info)\n",
    "        train_json['annotations'].extend(annotaion_info)\n",
    "        train_image_id+=1\n",
    "        train_annotation_id+=len(annotaion_info)\n",
    "    elif dataset_classification==8:\n",
    "        image_info, annotaion_info=custom_coco_json_creation(data,val_image_id,val_annotation_id)\n",
    "        val_json['images'].append(image_info)\n",
    "        val_json['annotations'].extend(annotaion_info)\n",
    "        val_image_id+=1\n",
    "        val_annotation_id+=len(annotaion_info)\n",
    "    else:\n",
    "        image_info, annotaion_info=custom_coco_json_creation(data,test_image_id,test_annotation_id)\n",
    "        test_json['images'].append(image_info)\n",
    "        test_json['annotations'].extend(annotaion_info)\n",
    "        test_image_id+=1\n",
    "        test_annotation_id+=len(annotaion_info)"
   ]
  }
 ],
 "metadata": {
  "kernelspec": {
   "display_name": "Python 3",
   "language": "python",
   "name": "python3"
  },
  "language_info": {
   "codemirror_mode": {
    "name": "ipython",
    "version": 3
   },
   "file_extension": ".py",
   "mimetype": "text/x-python",
   "name": "python",
   "nbconvert_exporter": "python",
   "pygments_lexer": "ipython3",
   "version": "3.12.3"
  }
 },
 "nbformat": 4,
 "nbformat_minor": 5
}
