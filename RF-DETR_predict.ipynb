{
 "cells": [
  {
   "cell_type": "code",
   "execution_count": null,
   "id": "10bd73e5",
   "metadata": {},
   "outputs": [],
   "source": [
    "import io\n",
    "import requests\n",
    "import supervision as sv\n",
    "from PIL import Image\n",
    "from rfdetr import RFDETRBase\n",
    "from rfdetr.util.coco_classes import COCO_CLASSES\n",
    "\n",
    "model = RFDETRBase(pretrain_weights='../../model/TPS_RFDETR/checkpoint_best_total.pth', device='cuda')\n",
    "\n",
    "urls = [\n",
    "    \"../../data/coco_IGNITE/test/patient101_pdl1_roi1_0_4.png\",\n",
    "    \"../../data/coco_IGNITE/test/patient101_pdl1_roi1_2_3.png\"\n",
    "]\n",
    "\n",
    "images = [Image.open(url).convert(\"RGB\") for url in urls]\n",
    "\n",
    "detections_list = model.predict(images, threshold=0.5)\n",
    "\n",
    "for image, detections in zip(images, detections_list):\n",
    "    labels = [\n",
    "        f\"{COCO_CLASSES[class_id]} {confidence:.2f}\"\n",
    "        for class_id, confidence\n",
    "        in zip(detections.class_id, detections.confidence)\n",
    "    ]\n",
    "\n",
    "    annotated_image = image.copy()\n",
    "    annotated_image = sv.BoxAnnotator().annotate(annotated_image, detections)\n",
    "    annotated_image = sv.LabelAnnotator().annotate(annotated_image, detections, labels)\n",
    "\n",
    "    sv.plot_image(annotated_image)"
   ]
  }
 ],
 "metadata": {
  "kernelspec": {
   "display_name": "Python 3",
   "language": "python",
   "name": "python3"
  },
  "language_info": {
   "codemirror_mode": {
    "name": "ipython",
    "version": 3
   },
   "file_extension": ".py",
   "mimetype": "text/x-python",
   "name": "python",
   "nbconvert_exporter": "python",
   "pygments_lexer": "ipython3",
   "version": "3.12.3"
  }
 },
 "nbformat": 4,
 "nbformat_minor": 5
}
